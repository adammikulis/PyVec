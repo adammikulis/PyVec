{
 "cells": [
  {
   "cell_type": "code",
   "execution_count": 1,
   "metadata": {},
   "outputs": [
    {
     "name": "stdout",
     "output_type": "stream",
     "text": [
      "Hello\n"
     ]
    }
   ],
   "source": [
    "# Source: https://towardsdatascience.com/tf-idf-for-document-ranking-from-scratch-in-python-on-real-world-dataset-796d339a4089\n",
    "\n",
    "# TF-IDF algorithm:\n",
    "# tf(t, d) = count of t in d / number of words in d\n",
    "# idf(t) = N/df\n",
    "# idf(t) = log(N/(df + 1))\n",
    "# tf-idf(t, d) = tf(t, d) * log(N/(df + 1))"
   ]
  },
  {
   "cell_type": "code",
   "execution_count": null,
   "metadata": {},
   "outputs": [],
   "source": [
    "import os\n",
    "from collections import defaultdict\n",
    "import math\n",
    "\n",
    "# Initialize document frequency (DF)\n",
    "DF = defaultdict(set)\n",
    "\n",
    "# Load whole documents and calculate DF\n",
    "documents = []\n",
    "for i, filename in enumerate(os.listdir(preprocessed_directory)):\n",
    "    file_path = os.path.join(preprocessed_directory, filename)\n",
    "    with open(file_path, 'r', encoding='utf-8') as file:\n",
    "        text = file.read()\n",
    "        documents.append(text)\n",
    "        unique_tokens = set(text.split())\n",
    "        for word in unique_tokens:\n",
    "            DF[word].add(i)\n",
    "\n",
    "# Number of documents\n",
    "num_documents = len(documents)\n",
    "\n",
    "# Calculate Inverse Document Frequency (IDF)\n",
    "IDF = {word: math.log(num_documents / (1 + len(doc_indexes))) for word, doc_indexes in DF.items()}\n",
    "\n",
    "# Calculate Term Frequency (TF) and TF-IDF for each document\n",
    "document_tf_idf = []\n",
    "for text in documents:\n",
    "    tokens = text.split()\n",
    "    tf = defaultdict(int)\n",
    "    for word in tokens:\n",
    "        tf[word] += 1\n",
    "    \n",
    "    doc_tf_idf = {}\n",
    "    for word in tf:\n",
    "        normalized_tf = tf[word] / len(tokens)\n",
    "        tf_idf_value = normalized_tf * IDF[word]\n",
    "        doc_tf_idf[word] = tf_idf_value\n",
    "    \n",
    "    document_tf_idf.append(doc_tf_idf)\n",
    "\n",
    "# 'document_tf_idf' contains the TF-IDF score for each word in each document\n"
   ]
  },
  {
   "cell_type": "code",
   "execution_count": null,
   "metadata": {},
   "outputs": [],
   "source": [
    "def get_top_n_tokens(document_tf_idf, n):\n",
    "    # Aggregate TF-IDF scores for each token across all documents\n",
    "    token_scores = defaultdict(float)\n",
    "    for doc in document_tf_idf:\n",
    "        for token, score in doc.items():\n",
    "            token_scores[token] += score\n",
    "\n",
    "    # Sort tokens by their aggregated scores\n",
    "    sorted_tokens = sorted(token_scores.items(), key=lambda item: item[1], reverse=True)\n",
    "\n",
    "    # Get top n tokens\n",
    "    top_n_tokens = sorted_tokens[:n]\n",
    "\n",
    "    return top_n_tokens\n",
    "\n",
    "n = 1024 # Number of tokens to use for vector length\n",
    "top_tokens = get_top_n_tokens(document_tf_idf, n)\n",
    "\n",
    "print(\"Top {} tokens:\".format(n))\n",
    "for token, score in top_tokens:\n",
    "    print(f\"{token}: {score}\")\n"
   ]
  }
 ],
 "metadata": {
  "kernelspec": {
   "display_name": ".venv",
   "language": "python",
   "name": "python3"
  },
  "language_info": {
   "codemirror_mode": {
    "name": "ipython",
    "version": 3
   },
   "file_extension": ".py",
   "mimetype": "text/x-python",
   "name": "python",
   "nbconvert_exporter": "python",
   "pygments_lexer": "ipython3",
   "version": "3.12.1"
  }
 },
 "nbformat": 4,
 "nbformat_minor": 2
}
